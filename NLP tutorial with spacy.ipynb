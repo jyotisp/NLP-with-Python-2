{
 "cells": [
  {
   "cell_type": "code",
   "execution_count": 16,
   "metadata": {},
   "outputs": [],
   "source": [
    "import spacy"
   ]
  },
  {
   "cell_type": "code",
   "execution_count": 17,
   "metadata": {},
   "outputs": [],
   "source": [
    "nlp=spacy.load('en_core_web_sm')"
   ]
  },
  {
   "cell_type": "code",
   "execution_count": 3,
   "metadata": {},
   "outputs": [],
   "source": [
    "doc=nlp(u'India has a huge surge of I.T jobs with business worth of $20 billion')"
   ]
  },
  {
   "cell_type": "code",
   "execution_count": 4,
   "metadata": {},
   "outputs": [
    {
     "name": "stdout",
     "output_type": "stream",
     "text": [
      "India \t PROPN \t nsubj \t nominal subject\n",
      "has \t AUX \t ROOT \t None\n",
      "a \t DET \t det \t determiner\n",
      "huge \t ADJ \t amod \t adjectival modifier\n",
      "surge \t NOUN \t dobj \t direct object\n",
      "of \t ADP \t prep \t prepositional modifier\n",
      "I.T \t ADJ \t compound \t compound\n",
      "jobs \t NOUN \t pobj \t object of preposition\n",
      "with \t ADP \t prep \t prepositional modifier\n",
      "business \t NOUN \t compound \t compound\n",
      "worth \t NOUN \t pobj \t object of preposition\n",
      "of \t ADP \t prep \t prepositional modifier\n",
      "$ \t SYM \t quantmod \t modifier of quantifier\n",
      "20 \t NUM \t compound \t compound\n",
      "billion \t NUM \t pobj \t object of preposition\n"
     ]
    }
   ],
   "source": [
    "for token in doc:\n",
    "    print(token.text, '\\t' , token.pos_,'\\t',token.dep_,'\\t',spacy.explain(token.dep_))"
   ]
  },
  {
   "cell_type": "code",
   "execution_count": 5,
   "metadata": {},
   "outputs": [
    {
     "name": "stdout",
     "output_type": "stream",
     "text": [
      "India \t PROPN \t nsubj \t noun, proper singular \t nominal subject\n",
      "has \t AUX \t ROOT \t verb, 3rd person singular present \t None\n",
      "a \t DET \t det \t determiner \t determiner\n",
      "huge \t ADJ \t amod \t adjective \t adjectival modifier\n",
      "surge \t NOUN \t dobj \t noun, singular or mass \t direct object\n",
      "of \t ADP \t prep \t conjunction, subordinating or preposition \t prepositional modifier\n",
      "I.T \t ADJ \t compound \t adjective \t compound\n",
      "jobs \t NOUN \t pobj \t noun, plural \t object of preposition\n",
      "with \t ADP \t prep \t conjunction, subordinating or preposition \t prepositional modifier\n",
      "business \t NOUN \t compound \t noun, singular or mass \t compound\n",
      "worth \t NOUN \t pobj \t noun, singular or mass \t object of preposition\n",
      "of \t ADP \t prep \t conjunction, subordinating or preposition \t prepositional modifier\n",
      "$ \t SYM \t quantmod \t symbol, currency \t modifier of quantifier\n",
      "20 \t NUM \t compound \t cardinal number \t compound\n",
      "billion \t NUM \t pobj \t cardinal number \t object of preposition\n"
     ]
    }
   ],
   "source": [
    "for token in doc:\n",
    "    print(token.text, '\\t' , token.pos_,'\\t',token.dep_,'\\t',spacy.explain(token.tag_),'\\t',spacy.explain(token.dep_))"
   ]
  },
  {
   "cell_type": "code",
   "execution_count": 10,
   "metadata": {},
   "outputs": [
    {
     "name": "stdout",
     "output_type": "stream",
     "text": [
      "India          PROPN     nsubj     noun, proper singular                             nominal subject\n",
      "has            AUX       ROOT      verb, 3rd person singular present                 None\n",
      "a              DET       det       determiner                                        determiner\n",
      "huge           ADJ       amod      adjective                                         adjectival modifier\n",
      "surge          NOUN      dobj      noun, singular or mass                            direct object\n",
      "of             ADP       prep      conjunction, subordinating or preposition         prepositional modifier\n",
      "I.T            ADJ       compound  adjective                                         compound\n",
      "jobs           NOUN      pobj      noun, plural                                      object of preposition\n",
      "with           ADP       prep      conjunction, subordinating or preposition         prepositional modifier\n",
      "business       NOUN      compound  noun, singular or mass                            compound\n",
      "worth          NOUN      pobj      noun, singular or mass                            object of preposition\n",
      "of             ADP       prep      conjunction, subordinating or preposition         prepositional modifier\n",
      "$              SYM       quantmod  symbol, currency                                  modifier of quantifier\n",
      "20             NUM       compound  cardinal number                                   compound\n",
      "billion        NUM       pobj      cardinal number                                   object of preposition\n"
     ]
    }
   ],
   "source": [
    "for token in doc:\n",
    "    print(f'{token.text:{15}}{token.pos_:{10}}{token.dep_:{10}}{spacy.explain(token.tag_):{50}}{spacy.explain(token.dep_)}')"
   ]
  },
  {
   "cell_type": "code",
   "execution_count": 11,
   "metadata": {},
   "outputs": [
    {
     "name": "stdout",
     "output_type": "stream",
     "text": [
      "has\n"
     ]
    }
   ],
   "source": [
    "print(doc[1].text)"
   ]
  },
  {
   "cell_type": "code",
   "execution_count": 12,
   "metadata": {},
   "outputs": [
    {
     "name": "stdout",
     "output_type": "stream",
     "text": [
      "have\n"
     ]
    }
   ],
   "source": [
    "print(doc[1].lemma_) #gives the base word i.e root"
   ]
  },
  {
   "cell_type": "code",
   "execution_count": 14,
   "metadata": {},
   "outputs": [
    {
     "name": "stdout",
     "output_type": "stream",
     "text": [
      "India =>Xxxxx\n",
      "I.T =>X.X\n"
     ]
    }
   ],
   "source": [
    "print(doc[0].text+ \" =>\" +doc[0].shape_) #is cappital or small\n",
    "print(doc[6].text+ \" =>\" +doc[6].shape_)"
   ]
  },
  {
   "cell_type": "code",
   "execution_count": 15,
   "metadata": {},
   "outputs": [
    {
     "name": "stdout",
     "output_type": "stream",
     "text": [
      "True\n",
      "False\n",
      "15\n"
     ]
    }
   ],
   "source": [
    "print(doc[0].is_alpha)\n",
    "print(doc[0].is_stop)\n",
    "print(len(doc))"
   ]
  },
  {
   "cell_type": "code",
   "execution_count": 16,
   "metadata": {},
   "outputs": [
    {
     "name": "stdout",
     "output_type": "stream",
     "text": [
      "True\n",
      "True\n",
      "15\n"
     ]
    }
   ],
   "source": [
    "print(doc[1].is_alpha) #is the word a alphabet\n",
    "print(doc[1].is_stop)  #is it a commom word as the,as,a,an......\n",
    "print(len(doc))"
   ]
  },
  {
   "cell_type": "code",
   "execution_count": 17,
   "metadata": {},
   "outputs": [],
   "source": [
    "doc1=nlp(u'Hello! Welcome to NLP learning. This is the day 1 of Webinar.We are trying to understand text basics.Let\\'s move ahead')"
   ]
  },
  {
   "cell_type": "code",
   "execution_count": 18,
   "metadata": {},
   "outputs": [
    {
     "name": "stdout",
     "output_type": "stream",
     "text": [
      "Hello!\n",
      "Welcome to NLP learning.\n",
      "This is the day 1 of Webinar.\n",
      "We are trying to understand text basics.\n",
      "Let's move ahead\n"
     ]
    }
   ],
   "source": [
    "for sentence in doc1.sents:\n",
    "    print(sentence)"
   ]
  },
  {
   "cell_type": "code",
   "execution_count": 19,
   "metadata": {},
   "outputs": [
    {
     "data": {
      "text/plain": [
       "True"
      ]
     },
     "execution_count": 19,
     "metadata": {},
     "output_type": "execute_result"
    }
   ],
   "source": [
    "doc1[0].is_sent_start"
   ]
  },
  {
   "cell_type": "code",
   "execution_count": 21,
   "metadata": {},
   "outputs": [],
   "source": [
    "doc1[1].is_sent_start  #is the word is a common starter of sentence"
   ]
  },
  {
   "cell_type": "code",
   "execution_count": 1,
   "metadata": {},
   "outputs": [],
   "source": [
    "#...........................Tokenisation.......................................#"
   ]
  },
  {
   "cell_type": "code",
   "execution_count": 2,
   "metadata": {},
   "outputs": [
    {
     "name": "stdout",
     "output_type": "stream",
     "text": [
      "\"Hello! we're learning Natural Language Processing in I.T. basics!\"\n"
     ]
    }
   ],
   "source": [
    "str1='\"Hello! we\\'re learning Natural Language Processing in I.T. basics!\"'\n",
    "print(str1)"
   ]
  },
  {
   "cell_type": "code",
   "execution_count": 8,
   "metadata": {},
   "outputs": [
    {
     "name": "stdout",
     "output_type": "stream",
     "text": [
      "\" || Hello || ! || we || 're || learning || Natural || Language || Processing || in || I.T. || basics || ! || \" || "
     ]
    }
   ],
   "source": [
    "#exploring all tokens\n",
    "\n",
    "doc2=nlp(str1)\n",
    "\n",
    "for token in doc2:\n",
    "    print(token.text,end=' || ')"
   ]
  },
  {
   "cell_type": "markdown",
   "metadata": {},
   "source": [
    "len(doc2)"
   ]
  },
  {
   "cell_type": "code",
   "execution_count": 9,
   "metadata": {},
   "outputs": [
    {
     "data": {
      "text/plain": [
       "14"
      ]
     },
     "execution_count": 9,
     "metadata": {},
     "output_type": "execute_result"
    }
   ],
   "source": [
    "len(doc2)"
   ]
  },
  {
   "cell_type": "code",
   "execution_count": 10,
   "metadata": {},
   "outputs": [
    {
     "data": {
      "text/plain": [
       "! we're"
      ]
     },
     "execution_count": 10,
     "metadata": {},
     "output_type": "execute_result"
    }
   ],
   "source": [
    "doc2[2:5]"
   ]
  },
  {
   "cell_type": "code",
   "execution_count": 11,
   "metadata": {},
   "outputs": [
    {
     "data": {
      "text/plain": [
       "I.T. basics!\""
      ]
     },
     "execution_count": 11,
     "metadata": {},
     "output_type": "execute_result"
    }
   ],
   "source": [
    "doc2[-4:]"
   ]
  },
  {
   "cell_type": "code",
   "execution_count": 12,
   "metadata": {},
   "outputs": [
    {
     "ename": "TypeError",
     "evalue": "'spacy.tokens.doc.Doc' object does not support item assignment",
     "output_type": "error",
     "traceback": [
      "\u001b[1;31m---------------------------------------------------------------------------\u001b[0m",
      "\u001b[1;31mTypeError\u001b[0m                                 Traceback (most recent call last)",
      "\u001b[1;32m<ipython-input-12-6060ebd781b1>\u001b[0m in \u001b[0;36m<module>\u001b[1;34m\u001b[0m\n\u001b[0;32m      1\u001b[0m \u001b[1;31m#item assignment not allowed\u001b[0m\u001b[1;33m\u001b[0m\u001b[1;33m\u001b[0m\u001b[1;33m\u001b[0m\u001b[0m\n\u001b[0;32m      2\u001b[0m \u001b[1;33m\u001b[0m\u001b[0m\n\u001b[1;32m----> 3\u001b[1;33m \u001b[0mdoc2\u001b[0m\u001b[1;33m[\u001b[0m\u001b[1;36m2\u001b[0m\u001b[1;33m]\u001b[0m\u001b[1;33m=\u001b[0m\u001b[0mdoc2\u001b[0m\u001b[1;33m[\u001b[0m\u001b[1;36m4\u001b[0m\u001b[1;33m]\u001b[0m\u001b[1;33m\u001b[0m\u001b[1;33m\u001b[0m\u001b[0m\n\u001b[0m",
      "\u001b[1;31mTypeError\u001b[0m: 'spacy.tokens.doc.Doc' object does not support item assignment"
     ]
    }
   ],
   "source": [
    "#item assignment not allowed\n",
    "\n",
    "doc2[2]=doc2[4]"
   ]
  },
  {
   "cell_type": "code",
   "execution_count": 13,
   "metadata": {},
   "outputs": [],
   "source": [
    "#.................................Named Entity recognition.........................................."
   ]
  },
  {
   "cell_type": "code",
   "execution_count": 14,
   "metadata": {},
   "outputs": [],
   "source": [
    "# what si a particular word that it shoud be able to recognise the word\n",
    "\n",
    "#E.g India --it iis a country,banana is a fruit "
   ]
  },
  {
   "cell_type": "code",
   "execution_count": 21,
   "metadata": {},
   "outputs": [
    {
     "name": "stdout",
     "output_type": "stream",
     "text": [
      "Google  || is  || setting  || up  || $  || 50  || million  || company  || branch  || in  || Delhi  || \n",
      "\n",
      "Google  - ORG - Companies, agencies, institutions, etc.\n",
      "$50 million  - MONEY - Monetary values, including unit\n",
      "Delhi  - GPE - Countries, cities, states\n"
     ]
    }
   ],
   "source": [
    "doc3=nlp(u'Google is setting up $50 million company branch in Delhi')\n",
    "\n",
    "for token in doc3:\n",
    "    print(token.text,end=\"  || \")\n",
    "    \n",
    "print('\\n')\n",
    "\n",
    "for entity in doc3.ents:\n",
    "    print(entity.text+'  - '+entity.label_+' - '+str(spacy.explain(entity.label_)))\n",
    "    "
   ]
  },
  {
   "cell_type": "code",
   "execution_count": 25,
   "metadata": {},
   "outputs": [],
   "source": [
    "#entity is a recognizable object\n",
    "#label_ will give what type of entity it is\n",
    "#ents-- reccognises the entity\n",
    "#spacy.explain will return a object value which is not a string object and so we need to typecast it to string\n",
    "# spacy is using dependency parsing to recognise entities"
   ]
  },
  {
   "cell_type": "code",
   "execution_count": 26,
   "metadata": {},
   "outputs": [
    {
     "data": {
      "text/plain": [
       "3"
      ]
     },
     "execution_count": 26,
     "metadata": {},
     "output_type": "execute_result"
    }
   ],
   "source": [
    "#count the no. of entities\n",
    "\n",
    "len(doc3.ents)"
   ]
  },
  {
   "cell_type": "code",
   "execution_count": 27,
   "metadata": {},
   "outputs": [],
   "source": [
    "#........................built-in visualizers..............................i.e colorful text"
   ]
  },
  {
   "cell_type": "code",
   "execution_count": 29,
   "metadata": {},
   "outputs": [
    {
     "data": {
      "text/html": [
       "<span class=\"tex2jax_ignore\"><div class=\"entities\" style=\"line-height: 2.5; direction: ltr\">\n",
       "<mark class=\"entity\" style=\"background: #7aecec; padding: 0.45em 0.6em; margin: 0 0.25em; line-height: 1; border-radius: 0.35em;\">\n",
       "    Google\n",
       "    <span style=\"font-size: 0.8em; font-weight: bold; line-height: 1; border-radius: 0.35em; text-transform: uppercase; vertical-align: middle; margin-left: 0.5rem\">ORG</span>\n",
       "</mark>\n",
       " is setting up \n",
       "<mark class=\"entity\" style=\"background: #e4e7d2; padding: 0.45em 0.6em; margin: 0 0.25em; line-height: 1; border-radius: 0.35em;\">\n",
       "    $50 million\n",
       "    <span style=\"font-size: 0.8em; font-weight: bold; line-height: 1; border-radius: 0.35em; text-transform: uppercase; vertical-align: middle; margin-left: 0.5rem\">MONEY</span>\n",
       "</mark>\n",
       " company branch in \n",
       "<mark class=\"entity\" style=\"background: #feca74; padding: 0.45em 0.6em; margin: 0 0.25em; line-height: 1; border-radius: 0.35em;\">\n",
       "    Delhi\n",
       "    <span style=\"font-size: 0.8em; font-weight: bold; line-height: 1; border-radius: 0.35em; text-transform: uppercase; vertical-align: middle; margin-left: 0.5rem\">GPE</span>\n",
       "</mark>\n",
       "</div></span>"
      ],
      "text/plain": [
       "<IPython.core.display.HTML object>"
      ]
     },
     "metadata": {},
     "output_type": "display_data"
    }
   ],
   "source": [
    "#spacy includes a built-in visualization tool called displacy\n",
    "#demo to view all entities in displacy\n",
    "\n",
    "from spacy import displacy\n",
    "\n",
    "\n",
    "doc4=nlp(u'Google is setting up $50 million company branch in Delhi')\n",
    "displacy.render(doc4,style='ent',jupyter=True)                  # ent---entity recognizable"
   ]
  },
  {
   "cell_type": "code",
   "execution_count": 31,
   "metadata": {},
   "outputs": [
    {
     "data": {
      "text/html": [
       "<span class=\"tex2jax_ignore\"><svg xmlns=\"http://www.w3.org/2000/svg\" xmlns:xlink=\"http://www.w3.org/1999/xlink\" xml:lang=\"en\" id=\"64335f75b107475ca752704389a46503-0\" class=\"displacy\" width=\"410\" height=\"227.0\" direction=\"ltr\" style=\"max-width: none; height: 227.0px; color: #000000; background: #ffffff; font-family: Arial; direction: ltr\">\n",
       "<text class=\"displacy-token\" fill=\"currentColor\" text-anchor=\"middle\" y=\"137.0\">\n",
       "    <tspan class=\"displacy-word\" fill=\"currentColor\" x=\"50\">Suman</tspan>\n",
       "    <tspan class=\"displacy-tag\" dy=\"2em\" fill=\"currentColor\" x=\"50\">PROPN</tspan>\n",
       "</text>\n",
       "\n",
       "<text class=\"displacy-token\" fill=\"currentColor\" text-anchor=\"middle\" y=\"137.0\">\n",
       "    <tspan class=\"displacy-word\" fill=\"currentColor\" x=\"140\">is</tspan>\n",
       "    <tspan class=\"displacy-tag\" dy=\"2em\" fill=\"currentColor\" x=\"140\">AUX</tspan>\n",
       "</text>\n",
       "\n",
       "<text class=\"displacy-token\" fill=\"currentColor\" text-anchor=\"middle\" y=\"137.0\">\n",
       "    <tspan class=\"displacy-word\" fill=\"currentColor\" x=\"230\">learning</tspan>\n",
       "    <tspan class=\"displacy-tag\" dy=\"2em\" fill=\"currentColor\" x=\"230\">VERB</tspan>\n",
       "</text>\n",
       "\n",
       "<text class=\"displacy-token\" fill=\"currentColor\" text-anchor=\"middle\" y=\"137.0\">\n",
       "    <tspan class=\"displacy-word\" fill=\"currentColor\" x=\"320\">python</tspan>\n",
       "    <tspan class=\"displacy-tag\" dy=\"2em\" fill=\"currentColor\" x=\"320\">PROPN</tspan>\n",
       "</text>\n",
       "\n",
       "<g class=\"displacy-arrow\">\n",
       "    <path class=\"displacy-arc\" id=\"arrow-64335f75b107475ca752704389a46503-0-0\" stroke-width=\"2px\" d=\"M70,92.0 C70,2.0 230.0,2.0 230.0,92.0\" fill=\"none\" stroke=\"currentColor\"/>\n",
       "    <text dy=\"1.25em\" style=\"font-size: 0.8em; letter-spacing: 1px\">\n",
       "        <textPath xlink:href=\"#arrow-64335f75b107475ca752704389a46503-0-0\" class=\"displacy-label\" startOffset=\"50%\" side=\"left\" fill=\"currentColor\" text-anchor=\"middle\">nsubj</textPath>\n",
       "    </text>\n",
       "    <path class=\"displacy-arrowhead\" d=\"M70,94.0 L62,82.0 78,82.0\" fill=\"currentColor\"/>\n",
       "</g>\n",
       "\n",
       "<g class=\"displacy-arrow\">\n",
       "    <path class=\"displacy-arc\" id=\"arrow-64335f75b107475ca752704389a46503-0-1\" stroke-width=\"2px\" d=\"M160,92.0 C160,47.0 225.0,47.0 225.0,92.0\" fill=\"none\" stroke=\"currentColor\"/>\n",
       "    <text dy=\"1.25em\" style=\"font-size: 0.8em; letter-spacing: 1px\">\n",
       "        <textPath xlink:href=\"#arrow-64335f75b107475ca752704389a46503-0-1\" class=\"displacy-label\" startOffset=\"50%\" side=\"left\" fill=\"currentColor\" text-anchor=\"middle\">aux</textPath>\n",
       "    </text>\n",
       "    <path class=\"displacy-arrowhead\" d=\"M160,94.0 L152,82.0 168,82.0\" fill=\"currentColor\"/>\n",
       "</g>\n",
       "\n",
       "<g class=\"displacy-arrow\">\n",
       "    <path class=\"displacy-arc\" id=\"arrow-64335f75b107475ca752704389a46503-0-2\" stroke-width=\"2px\" d=\"M250,92.0 C250,47.0 315.0,47.0 315.0,92.0\" fill=\"none\" stroke=\"currentColor\"/>\n",
       "    <text dy=\"1.25em\" style=\"font-size: 0.8em; letter-spacing: 1px\">\n",
       "        <textPath xlink:href=\"#arrow-64335f75b107475ca752704389a46503-0-2\" class=\"displacy-label\" startOffset=\"50%\" side=\"left\" fill=\"currentColor\" text-anchor=\"middle\">dobj</textPath>\n",
       "    </text>\n",
       "    <path class=\"displacy-arrowhead\" d=\"M315.0,94.0 L323.0,82.0 307.0,82.0\" fill=\"currentColor\"/>\n",
       "</g>\n",
       "</svg></span>"
      ],
      "text/plain": [
       "<IPython.core.display.HTML object>"
      ]
     },
     "metadata": {},
     "output_type": "display_data"
    }
   ],
   "source": [
    "#seeing dependencing using render\n",
    "\n",
    "from spacy import displacy\n",
    "\n",
    "doct4=nlp(u'Suman is learning python')\n",
    "displacy.render(doct4,style='dep',jupyter=True,options={'distance':90})\n",
    "\n",
    "#nsubj is subject of word.its headword is verb\n",
    "#aux is auxillary word. its headword is verb\n",
    "#dobj is direct/dependency object of verb"
   ]
  },
  {
   "cell_type": "code",
   "execution_count": 32,
   "metadata": {},
   "outputs": [],
   "source": [
    "# learning is the root"
   ]
  },
  {
   "cell_type": "code",
   "execution_count": null,
   "metadata": {},
   "outputs": [],
   "source": []
  }
 ],
 "metadata": {
  "kernelspec": {
   "display_name": "Python 3",
   "language": "python",
   "name": "python3"
  },
  "language_info": {
   "codemirror_mode": {
    "name": "ipython",
    "version": 3
   },
   "file_extension": ".py",
   "mimetype": "text/x-python",
   "name": "python",
   "nbconvert_exporter": "python",
   "pygments_lexer": "ipython3",
   "version": "3.7.6"
  }
 },
 "nbformat": 4,
 "nbformat_minor": 4
}
